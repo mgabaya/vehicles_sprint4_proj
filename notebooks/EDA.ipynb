{
 "cells": [
  {
   "cell_type": "markdown",
   "id": "a689d9a2",
   "metadata": {},
   "source": [
    "<h1>Intro</h1>\n",
    "\n",
    "Sprint 4 Project"
   ]
  },
  {
   "cell_type": "markdown",
   "id": "7bb157cc",
   "metadata": {},
   "source": [
    "# VEHICLES\n",
    "\n",
    "We're taking a look a the data for used cars for sale."
   ]
  },
  {
   "cell_type": "markdown",
   "id": "560c019b",
   "metadata": {},
   "source": [
    "## Initialization\n",
    "\n",
    "Preprocessing the data:\n",
    "* Import libraries\n",
    "* Load the data \n",
    "* Clean up data types\n",
    "* Check for duplicates and null values\n",
    "* Enrich data"
   ]
  },
  {
   "cell_type": "code",
   "execution_count": 10,
   "id": "858f0ea1",
   "metadata": {},
   "outputs": [],
   "source": [
    "# !pip install streamlit --user\n",
    "# !pip install plotly_express"
   ]
  },
  {
   "cell_type": "code",
   "execution_count": 12,
   "id": "9de724b6",
   "metadata": {},
   "outputs": [],
   "source": [
    "import pandas as pd\n",
    "# import streamlit as st\n",
    "# import plotly_express as px\n",
    "# import altair as alt\n",
    "from matplotlib import pyplot as plt\n",
    "import numpy as np\n",
    "import math as mt\n",
    "from math import factorial\n",
    "from scipy import stats as st"
   ]
  },
  {
   "cell_type": "code",
   "execution_count": 14,
   "id": "ce5b7cd7",
   "metadata": {},
   "outputs": [],
   "source": [
    "df_vehicles_us = pd.read_csv('/datasets/vehicles_us.csv')"
   ]
  },
  {
   "cell_type": "code",
   "execution_count": 16,
   "id": "cb3fb24e",
   "metadata": {},
   "outputs": [
    {
     "name": "stdout",
     "output_type": "stream",
     "text": [
      "       price  model_year                         model  condition  cylinders  \\\n",
      "45537  17588      2018.0               chevrolet cruze   like new        NaN   \n",
      "26869   8000      2004.0      chevrolet silverado 1500       good        8.0   \n",
      "34908  13988      2014.0                    ford focus       good        4.0   \n",
      "8122   24200      2019.0  chevrolet camaro lt coupe 2d       good        6.0   \n",
      "26210  23990      2011.0    chevrolet silverado 3500hd       good        8.0   \n",
      "47820   7950      2012.0              volkswagen jetta  excellent        NaN   \n",
      "42313  12995      1998.0            chevrolet corvette   like new        8.0   \n",
      "4352   16000      2014.0      chevrolet silverado 1500       good        8.0   \n",
      "28826  29900      2018.0      ford mustang gt coupe 2d       good        8.0   \n",
      "3666   15985      2010.0                 toyota tacoma  excellent        6.0   \n",
      "\n",
      "         fuel  odometer transmission         type paint_color  is_4wd  \\\n",
      "45537     gas    4000.0    automatic        sedan         NaN     NaN   \n",
      "26869     gas       NaN    automatic       pickup       black     1.0   \n",
      "34908     gas   96479.0       manual    hatchback         red     NaN   \n",
      "8122      gas   11438.0        other        coupe        grey     NaN   \n",
      "26210  diesel  150125.0    automatic        truck        grey     1.0   \n",
      "47820  diesel   62000.0       manual        sedan      silver     NaN   \n",
      "42313     gas   57360.0       manual  convertible       brown     NaN   \n",
      "4352      gas  137000.0    automatic       pickup       white     1.0   \n",
      "28826     gas    3827.0    automatic        coupe      yellow     NaN   \n",
      "3666      gas  131887.0    automatic       pickup         red     1.0   \n",
      "\n",
      "      date_posted  days_listed  \n",
      "45537  2018-12-18            9  \n",
      "26869  2018-05-28           48  \n",
      "34908  2018-11-26           37  \n",
      "8122   2019-01-04           26  \n",
      "26210  2018-07-24           10  \n",
      "47820  2018-08-03           36  \n",
      "42313  2018-07-02            2  \n",
      "4352   2019-04-18           28  \n",
      "28826  2018-10-27           51  \n",
      "3666   2019-03-01           99  \n"
     ]
    }
   ],
   "source": [
    "print(df_vehicles_us.sample(10))"
   ]
  },
  {
   "cell_type": "code",
   "execution_count": 17,
   "id": "e32266b2",
   "metadata": {},
   "outputs": [
    {
     "name": "stdout",
     "output_type": "stream",
     "text": [
      "<class 'pandas.core.frame.DataFrame'>\n",
      "RangeIndex: 51525 entries, 0 to 51524\n",
      "Data columns (total 13 columns):\n",
      " #   Column        Non-Null Count  Dtype  \n",
      "---  ------        --------------  -----  \n",
      " 0   price         51525 non-null  int64  \n",
      " 1   model_year    47906 non-null  float64\n",
      " 2   model         51525 non-null  object \n",
      " 3   condition     51525 non-null  object \n",
      " 4   cylinders     46265 non-null  float64\n",
      " 5   fuel          51525 non-null  object \n",
      " 6   odometer      43633 non-null  float64\n",
      " 7   transmission  51525 non-null  object \n",
      " 8   type          51525 non-null  object \n",
      " 9   paint_color   42258 non-null  object \n",
      " 10  is_4wd        25572 non-null  float64\n",
      " 11  date_posted   51525 non-null  object \n",
      " 12  days_listed   51525 non-null  int64  \n",
      "dtypes: float64(4), int64(2), object(7)\n",
      "memory usage: 5.1+ MB\n",
      "None\n"
     ]
    }
   ],
   "source": [
    "print(df_vehicles_us.info())"
   ]
  },
  {
   "cell_type": "code",
   "execution_count": 27,
   "id": "60482b48",
   "metadata": {},
   "outputs": [
    {
     "name": "stdout",
     "output_type": "stream",
     "text": [
      "DUPLICATES\n",
      " Empty DataFrame\n",
      "Columns: [price, model_year, model, condition, cylinders, fuel, odometer, transmission, type, paint_color, is_4wd, date_posted, days_listed]\n",
      "Index: []\n",
      "CONDITION\n",
      " ['good' 'like new' 'fair' 'excellent' 'salvage' 'new']\n",
      "FUEL\n",
      " ['gas' 'diesel' 'other' 'hybrid' 'electric']\n",
      "TRANSMISSION\n",
      " ['automatic' 'manual' 'other']\n",
      "TYPE\n",
      " ['SUV' 'pickup' 'sedan' 'truck' 'coupe' 'van' 'convertible' 'hatchback'\n",
      " 'wagon' 'mini-van' 'other' 'offroad' 'bus']\n",
      "COLOR\n",
      " [nan 'white' 'red' 'black' 'blue' 'grey' 'silver' 'custom' 'orange'\n",
      " 'yellow' 'brown' 'green' 'purple']\n",
      "4WD\n",
      " [ 1. nan]\n"
     ]
    }
   ],
   "source": [
    "# Checking for any duplicates and the number of unique types\n",
    "print('DUPLICATES\\n', df_vehicles_us[df_vehicles_us.duplicated()])\n",
    "# print('MODEL\\n', df_vehicles_us['model'].unique())\n",
    "print('CONDITION\\n', df_vehicles_us['condition'].unique())\n",
    "print('FUEL\\n', df_vehicles_us['fuel'].unique())\n",
    "print('TRANSMISSION\\n', df_vehicles_us['transmission'].unique())\n",
    "print('TYPE\\n', df_vehicles_us['type'].unique())\n",
    "print('COLOR\\n', df_vehicles_us['paint_color'].unique())\n",
    "print('4WD\\n', df_vehicles_us['is_4wd'].unique())"
   ]
  },
  {
   "cell_type": "code",
   "execution_count": 21,
   "id": "47fbb8d2",
   "metadata": {},
   "outputs": [],
   "source": [
    "# string type and lowercase: model, condition, fuel, transmission, type, paint_color, is_4wd\n",
    "# to_datetime: date_posted"
   ]
  },
  {
   "cell_type": "code",
   "execution_count": 22,
   "id": "2d85ec22",
   "metadata": {},
   "outputs": [
    {
     "name": "stdout",
     "output_type": "stream",
     "text": [
      "price               0\n",
      "model_year       3619\n",
      "model               0\n",
      "condition           0\n",
      "cylinders        5260\n",
      "fuel                0\n",
      "odometer         7892\n",
      "transmission        0\n",
      "type                0\n",
      "paint_color      9267\n",
      "is_4wd          25953\n",
      "date_posted         0\n",
      "days_listed         0\n",
      "dtype: int64\n"
     ]
    }
   ],
   "source": [
    "# Null values overview\n",
    "print(df_vehicles_us.isna().sum())"
   ]
  },
  {
   "cell_type": "code",
   "execution_count": 30,
   "id": "ea656783",
   "metadata": {},
   "outputs": [
    {
     "name": "stdout",
     "output_type": "stream",
     "text": [
      "       price  model_year                        model  condition  cylinders  \\\n",
      "0       9400      2011.0                       bmw x5       good        6.0   \n",
      "3       1500      2003.0                   ford f-150       fair        8.0   \n",
      "8      11500      2012.0                  kia sorento  excellent        4.0   \n",
      "12     18990      2012.0                     ram 1500  excellent        8.0   \n",
      "21      5250      2007.0                  toyota rav4       good        6.0   \n",
      "...      ...         ...                          ...        ...        ...   \n",
      "51502   7995      2011.0            chevrolet equinox   like new        4.0   \n",
      "51503   6595      2011.0             chevrolet malibu  excellent        4.0   \n",
      "51506  28900      2017.0  ford f150 supercrew cab xlt       good        6.0   \n",
      "51519  11750      2015.0                 honda accord  excellent        4.0   \n",
      "51524   6300      2014.0                nissan altima       good        4.0   \n",
      "\n",
      "      fuel  odometer transmission    type paint_color  is_4wd date_posted  \\\n",
      "0      gas  145000.0    automatic     SUV         NaN     1.0  2018-06-23   \n",
      "3      gas       NaN    automatic  pickup         NaN     NaN  2019-03-22   \n",
      "8      gas  104174.0    automatic     SUV         NaN     1.0  2018-07-16   \n",
      "12     gas  140742.0    automatic  pickup         NaN     1.0  2019-04-02   \n",
      "21     gas  154000.0    automatic     SUV         NaN     NaN  2018-08-22   \n",
      "...    ...       ...          ...     ...         ...     ...         ...   \n",
      "51502  gas  111088.0    automatic     SUV         NaN     NaN  2019-04-01   \n",
      "51503  gas  100780.0    automatic   sedan         NaN     NaN  2019-02-27   \n",
      "51506  gas   49225.0    automatic  pickup         NaN     1.0  2019-04-11   \n",
      "51519  gas       NaN    automatic   coupe         NaN     NaN  2018-11-24   \n",
      "51524  gas       NaN    automatic   sedan         NaN     NaN  2018-06-05   \n",
      "\n",
      "       days_listed  \n",
      "0               19  \n",
      "3                9  \n",
      "8               19  \n",
      "12              37  \n",
      "21               8  \n",
      "...            ...  \n",
      "51502          175  \n",
      "51503           73  \n",
      "51506           25  \n",
      "51519           89  \n",
      "51524           10  \n",
      "\n",
      "[9267 rows x 13 columns]\n"
     ]
    }
   ],
   "source": [
    "# Null values within the columns\n",
    "print(df_vehicles_us[df_vehicles_us['paint_color'].isna()])"
   ]
  },
  {
   "cell_type": "code",
   "execution_count": null,
   "id": "b7a05d10",
   "metadata": {},
   "outputs": [],
   "source": []
  }
 ],
 "metadata": {
  "kernelspec": {
   "display_name": "Python 3 (ipykernel)",
   "language": "python",
   "name": "python3"
  },
  "language_info": {
   "codemirror_mode": {
    "name": "ipython",
    "version": 3
   },
   "file_extension": ".py",
   "mimetype": "text/x-python",
   "name": "python",
   "nbconvert_exporter": "python",
   "pygments_lexer": "ipython3",
   "version": "3.9.5"
  },
  "toc": {
   "base_numbering": 1,
   "nav_menu": {},
   "number_sections": true,
   "sideBar": true,
   "skip_h1_title": true,
   "title_cell": "Table of Contents",
   "title_sidebar": "Contents",
   "toc_cell": false,
   "toc_position": {},
   "toc_section_display": true,
   "toc_window_display": false
  }
 },
 "nbformat": 4,
 "nbformat_minor": 5
}
